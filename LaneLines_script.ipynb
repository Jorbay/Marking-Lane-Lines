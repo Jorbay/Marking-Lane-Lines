{
 "cells": [
  {
   "cell_type": "code",
   "execution_count": 60,
   "metadata": {
    "collapsed": false
   },
   "outputs": [
    {
     "name": "stdout",
     "output_type": "stream",
     "text": [
      "./camera_cal/calibration10.jpg\n",
      "done!\n"
     ]
    }
   ],
   "source": [
    "#We run this first cell to obtain the necessary calibration matrices for our car's camera\n",
    "\n",
    "import matplotlib.image as mpimg\n",
    "import matplotlib.pyplot as plt\n",
    "import cv2\n",
    "import numpy as np\n",
    "import glob\n",
    "\n",
    "# prepare object points, like (0,0,0), (1,0,0), (2,0,0) ....,(6,5,0)\n",
    "objp = np.zeros((6*9,3), np.float32)\n",
    "objp[:,:2] = np.mgrid[0:9,0:6].T.reshape(-1,2)\n",
    "\n",
    "# Arrays to store object points and image points from all the images.\n",
    "objpoints = [] # 3d points in real world space\n",
    "imgpoints = [] # 2d points in image plane.\n",
    "# Make a list of calibration images\n",
    "images = glob.glob('./camera_cal/calibration*.jpg')\n",
    "print(images[0])\n",
    "example_img = cv2.imread(str(images[0]))\n",
    "image_shape = example_img.shape[0:2]\n",
    "\n",
    "# Step through the list and search for chessboard corners\n",
    "for fname in images:\n",
    "    img = cv2.imread(fname)\n",
    "    gray = cv2.cvtColor(img,cv2.COLOR_BGR2GRAY)\n",
    "\n",
    "    # Find the chessboard corners\n",
    "    ret, corners = cv2.findChessboardCorners(gray, (9,6),None)\n",
    "\n",
    "    # If found, add object points, image points\n",
    "    if ret == True:\n",
    "        objpoints.append(objp)\n",
    "        imgpoints.append(corners)\n",
    "\n",
    "        # Draw and display the corners\n",
    "        #img = cv2.drawChessboardCorners(img, (9,6), corners, ret)\n",
    "        #cv2.imshow('img',img)\n",
    "\n",
    "retval, cMat,dist,rvecs,tvecs = cv2.calibrateCamera(objpoints,imgpoints,image_shape,None,None)\n",
    "\n",
    "pCounter = 1\n",
    "#for fnames in images:\n",
    "\n",
    "                #img = cv2.imread(fnames)\n",
    "                #img = cv2.imread(fnames)\n",
    "                #cv2.imshow('img',img)\n",
    "                #cv2.waitKey(500)\n",
    "                #undistorted = cv2.undistort(img,cMat,dist,None,cMat)\n",
    "                #cv2.imwrite(\"./undistorted/undistorted\" + str(pCounter) + \".jpg\",undistorted)\n",
    "                #pCounter = pCounter +1\n",
    "                #cv2.imshow('undistorted',undistorted)\n",
    "                 #cv2.waitKey(500)\n",
    "print('done!')\n",
    "#cv2.destroyAllWindows()\n",
    "\n",
    "                        \n",
    "                        \n",
    "                        \n",
    "                        \n",
    "                        "
   ]
  },
  {
   "cell_type": "code",
   "execution_count": 61,
   "metadata": {
    "collapsed": true
   },
   "outputs": [],
   "source": [
    "import matplotlib.image as mpimg\n",
    "import matplotlib.pyplot as plt\n",
    "import cv2\n",
    "import numpy as np\n",
    "import glob\n",
    "%matplotlib inline\n",
    "\n",
    "#this function converts the input picture  into a binary picture of the lane edges\n",
    "def refinePicture(pic):        \n",
    "    \n",
    "        \n",
    "    \n",
    "        picHSV = cv2.cvtColor(pic, cv2.COLOR_BGR2HSV)\n",
    "\n",
    "        lowYellow = np.array([15,50,50])\n",
    "        highYellow = np.array([45,255,255])\n",
    "        maskYellow = cv2.inRange(picHSV, lowYellow, highYellow)\n",
    "        resYellow = cv2.bitwise_and(picHSV, picHSV, mask=maskYellow)\n",
    "    \n",
    "\n",
    "        lowWhite = np.array([0,0,135])\n",
    "        highWhite = np.array([255,140,255])\n",
    "        maskWhite = cv2.inRange(picHSV, lowWhite, highWhite)\n",
    "        resWhite = cv2.bitwise_and(picHSV,picHSV, mask=maskWhite)\n",
    "\n",
    "        newpic_white = cv2.cvtColor(resWhite,cv2.COLOR_HSV2RGB)\n",
    "        newpic_yellow = cv2.cvtColor(resYellow,cv2.COLOR_HSV2RGB)\n",
    "    \n",
    "        newpic = cv2.bitwise_or(newpic_white,newpic_yellow)\n",
    "\n",
    "    \n",
    "        examplePic_gray = cv2.cvtColor(newpic, cv2.COLOR_BGR2GRAY)\n",
    "        absolute_Sobel = np.absolute(cv2.Sobel(examplePic_gray, cv2.CV_64F,2,4,ksize=9))\n",
    "\n",
    "        examplePic_adjusted = np.uint8(255*absolute_Sobel/np.max(absolute_Sobel))\n",
    "\n",
    "        examplePic_binary = np.zeros_like(examplePic_adjusted)\n",
    "        examplePic_binary[(examplePic_adjusted > 30) & (examplePic_adjusted<=255)] = 1\n",
    "        \n",
    "        #plt.imshow(examplePic_binary, cmap='gray')\n",
    "        #cv2.waitKey(0)\n",
    "        #cv2.imshow('firstPic',examplePic_binary)\n",
    "    \n",
    "        return examplePic_binary\n",
    "        \n"
   ]
  },
  {
   "cell_type": "code",
   "execution_count": null,
   "metadata": {
    "collapsed": false,
    "scrolled": true
   },
   "outputs": [],
   "source": [
    "#this cell was only used for testing\n",
    "\n",
    "'''\n",
    "import matplotlib.image as mpimg\n",
    "import matplotlib.pyplot as plt\n",
    "import cv2\n",
    "import numpy as np\n",
    "import glob\n",
    "%matplotlib inline\n",
    "pic = cv2.imread('/home/gershom/Projects/udacity/carND/project4/CarND-Advanced-Lane-Lines/test_images/straight_lines1.jpg')\n",
    "#pic = pic[:,:,::-1]\n",
    "picHSV = cv2.cvtColor(pic, cv2.COLOR_BGR2HSV)\n",
    "\n",
    "lowYellow = np.array([15,50,50])\n",
    "highYellow = np.array([45,255,255])\n",
    "\n",
    "mask = cv2.inRange(picHSV, lowYellow, highYellow)\n",
    "\n",
    "res = cv2.bitwise_and(picHSV, picHSV, mask=mask)\n",
    "\n",
    "#now, let's do it for white\n",
    "\n",
    "#lowWhite = np.array([0,0,215])\n",
    "#highWhite = np.array([255,60,255])\n",
    "lowWhite = np.array([0,0,155])\n",
    "highWhite = np.array([255,120,255])\n",
    "\n",
    "maskWhite = cv2.inRange(picHSV, lowWhite, highWhite)\n",
    "\n",
    "resWhite = cv2.bitwise_and(picHSV,picHSV, mask=maskWhite)\n",
    "\n",
    "newpic_white = cv2.cvtColor(resWhite,cv2.COLOR_HSV2RGB)\n",
    "\n",
    "\n",
    "newpic = cv2.cvtColor(res,cv2.COLOR_HSV2RGB)\n",
    "\n",
    "yellow_and_white_pic = cv2.bitwise_or(newpic_white,newpic)\n",
    "\n",
    "examplePic_gray = cv2.cvtColor(yellow_and_white_pic,cv2.COLOR_BGR2GRAY)\n",
    "#examplePic_gray = cv2.cvtColor(pic, cv2.COLOR_BGR2GRAY)\n",
    "absolute_Sobel = np.absolute(cv2.Sobel(examplePic_gray, cv2.CV_64F,2,4,ksize =9))\n",
    "examplePic_adjusted = np.uint8(255*absolute_Sobel/np.max(absolute_Sobel))\n",
    "examplePic_binary = np.zeros_like(examplePic_adjusted)\n",
    "examplePic_binary[(examplePic_adjusted > 30) & (examplePic_adjusted<=255)] = 1\n",
    "\n",
    "img_size = (examplePic_binary.shape[1],examplePic_binary.shape[0])\n",
    "src = np.float32([[300,650],[1010,650],[590,450],[695,450]])\n",
    "\n",
    "dst = np.float32([[200,650],[1100,650],[200,10],[1100,10]])\n",
    "\n",
    "M = cv2.getPerspectiveTransform(src,dst)\n",
    "\n",
    "warped = cv2.warpPerspective(examplePic_binary, M, img_size,flags=cv2.INTER_LINEAR)\n",
    "\n",
    "#print(picHSV)\n",
    "print(np.any(maskWhite))\n",
    "#plt.imshow(yellow_and_white_pic)\n",
    "#cv2.waitKey(0)\n",
    "plt.imshow(warped,cmap='gray')\n",
    "    \n",
    "'''\n"
   ]
  },
  {
   "cell_type": "code",
   "execution_count": 62,
   "metadata": {
    "collapsed": false
   },
   "outputs": [],
   "source": [
    "import math\n",
    "currentCycle = 0\n",
    "left_fit = [0,0,0]\n",
    "right_fit = [0,0,0]\n",
    "curve_counter = 0\n",
    "final_curvature = 0\n",
    "current_displacement = 0\n",
    "\n",
    "#this function is run on every frame to draw lane lines and compute curvature\n",
    "def getLines(picture):\n",
    "        global cMat\n",
    "        global dist\n",
    "        \n",
    "        \n",
    "        #if currentCycle == 0:\n",
    "            #cv2.imwrite('./WriteUp_pics/distorted.jpg',picture[:,:,::-1])\n",
    "        \n",
    "        \n",
    "        \n",
    "        #undistorting the camera's pictures \n",
    "        picture = cv2.undistort(picture,cMat,dist,None,cMat)\n",
    "       \n",
    "    \n",
    "        #if currentCycle == 0:\n",
    "            #cv2.imwrite('./WriteUp_pics/undistorted.jpg',picture[:,:,::-1])\n",
    "            \n",
    "        global currentCycle\n",
    "        global left_fit\n",
    "        global right_fit\n",
    "        global left_fit_curv\n",
    "        global right_fit_curv\n",
    "        global ploty\n",
    "        global curve_counter\n",
    "        global final_curvature\n",
    "        global current_displacement\n",
    "        refined_picture = refinePicture(picture)\n",
    "        \n",
    "        #if currentCycle == 0:\n",
    "            #cv2.imwrite('./WriteUp_pics/binary.jpg', refined_picture*255)\n",
    "            \n",
    "        examplePic_binary = refined_picture\n",
    "        examplePic = picture\n",
    "\n",
    "        img_size = (refined_picture.shape[1],refined_picture.shape[0])\n",
    "\n",
    "        src = np.float32([[300,650],[1010,650],[590,450],[695,450]])\n",
    "\n",
    "        dst = np.float32([[200,650],[1100,650],[200,10],[1100,10]])\n",
    "\n",
    "        M = cv2.getPerspectiveTransform(src,dst)\n",
    "\n",
    "        warped = cv2.warpPerspective(examplePic_binary, M, img_size,flags=cv2.INTER_LINEAR)\n",
    "\n",
    "        #if currentCycle == 0:\n",
    "            #print(np.any(warped))\n",
    "            #cv2.imwrite('./WriteUp_pics/warped.jpg',warped*255)\n",
    "            \n",
    "        binary_warped = warped\n",
    "        \n",
    "        #this comparison is unnecessary but jupyter notebook's autoindenting is a pain and I don't want to have to correct the next ~50 lines\n",
    "        if currentCycle < 2: \n",
    "        \n",
    "            histogram = np.sum(warped[warped.shape[0]/2:,:], axis=0)\n",
    "            out_img = np.dstack((warped,warped,warped))*255\n",
    "        \n",
    "        \n",
    "            midpoint = np.int(histogram.shape[0]/2)\n",
    "            leftx_base = np.argmax(histogram[:midpoint])\n",
    "            rightx_base = np.argmax(histogram[midpoint:]) + midpoint\n",
    "\n",
    "            nwindows = 9\n",
    "            window_height= np.int(warped.shape[0]/nwindows)\n",
    "\n",
    "            nonzero = warped.nonzero()\n",
    "            nonzeroy = np.array(nonzero[0])\n",
    "            nonzerox = np.array(nonzero[1])\n",
    "\n",
    "            leftx_current = leftx_base\n",
    "            rightx_current = rightx_base\n",
    "\n",
    "            margin = 100\n",
    "\n",
    "            minpix = 50\n",
    "            left_lane_inds = []\n",
    "            right_lane_inds = []\n",
    "                                     \n",
    "                                     \n",
    "                                     \n",
    "            # Step through the windows one by one\n",
    "            for window in range(nwindows):\n",
    "                # Identify window boundaries in x and y (and right and left)\n",
    "                win_y_low = binary_warped.shape[0] - (window+1)*window_height\n",
    "                win_y_high = binary_warped.shape[0] - window*window_height\n",
    "                win_xleft_low = leftx_current - margin\n",
    "                win_xleft_high = leftx_current + margin\n",
    "                win_xright_low = rightx_current - margin\n",
    "                win_xright_high = rightx_current + margin\n",
    "                # Draw the windows on the visualization image\n",
    "                cv2.rectangle(out_img,(win_xleft_low,win_y_low),(win_xleft_high,win_y_high),(0,255,0), 2)\n",
    "                cv2.rectangle(out_img,(win_xright_low,win_y_low),(win_xright_high,win_y_high),(0,255,0), 2)\n",
    "                # Identify the nonzero pixels in x and y within the window\n",
    "                good_left_inds = ((nonzeroy >= win_y_low) & (nonzeroy < win_y_high) & (nonzerox >= win_xleft_low) & (nonzerox < win_xleft_high)).nonzero()[0]\n",
    "                good_right_inds = ((nonzeroy >= win_y_low) & (nonzeroy < win_y_high) & (nonzerox >= win_xright_low) & (nonzerox < win_xright_high)).nonzero()[0]\n",
    "                # Append these indices to the lists\n",
    "                left_lane_inds.append(good_left_inds)\n",
    "                right_lane_inds.append(good_right_inds)\n",
    "                # If you found > minpix pixels, recenter next window on the mean of the pixel x positions\n",
    "                if len(good_left_inds) > minpix:\n",
    "                    leftx_current = np.int(np.mean(nonzerox[good_left_inds]))\n",
    "                if len(good_right_inds) > minpix:        \n",
    "                    rightx_current = np.int(np.mean(nonzerox[good_right_inds]))\n",
    "\n",
    "            # Concatenate the arrays of indices\n",
    "            left_lane_inds = np.concatenate(left_lane_inds)\n",
    "            right_lane_inds = np.concatenate(right_lane_inds)\n",
    "\n",
    "            # Extract left and right line pixel positions\n",
    "            leftx = nonzerox[left_lane_inds]\n",
    "            lefty = nonzeroy[left_lane_inds] \n",
    "            rightx = nonzerox[right_lane_inds]\n",
    "            righty = nonzeroy[right_lane_inds] \n",
    "            \n",
    "#blargh indicates that some pictures do not have sufficient edge pixels to compute a new line, and just use the lines\n",
    "#computed from the previous frame\n",
    "            if (len(lefty) == 0) or (len(leftx) == 0) or (len(righty) == 0) or (len(rightx) == 0):\n",
    "                print(\"blargh\")\n",
    "            else:\n",
    "                current_left_fit = np.polyfit(lefty, leftx, 2)\n",
    "                current_right_fit = np.polyfit(righty, rightx, 2)\n",
    "                \n",
    "                if currentCycle == 1:\n",
    "                    if np.linalg.norm(current_left_fit-left_fit)>150:\n",
    "                        #'jumpy left' indicates that the left lane line changes greatly from the previous frame's\n",
    "                        print('jumpy left')\n",
    "                    else:\n",
    "                        left_fit = current_left_fit\n",
    "                    \n",
    "                    if np.linalg.norm(current_right_fit - right_fit)>150:\n",
    "                        #'jumpy right' indicates that the right lane line changes greatly from the previous frame's\n",
    "                        print('jumpy right')\n",
    "                    else:\n",
    "                        right_fit = current_right_fit\n",
    "                else:\n",
    "                    left_fit = current_left_fit\n",
    "                    right_fit = current_right_fit\n",
    "                    \n",
    "                    \n",
    "            \n",
    "            ploty = np.linspace(0, binary_warped.shape[0]-1, binary_warped.shape[0])\n",
    "            left_fitx = left_fit[0]*ploty**2 + left_fit[1]*ploty + left_fit[2]\n",
    "            right_fitx = right_fit[0]*ploty**2 + right_fit[1]*ploty + right_fit[2]\n",
    "\n",
    "\n",
    "\n",
    "            out_img[nonzeroy[left_lane_inds], nonzerox[left_lane_inds]] = [255,0,0]\n",
    "            out_img[nonzeroy[right_lane_inds], nonzerox[right_lane_inds]] = [0,0,255]\n",
    "\n",
    "            \n",
    "            #this was used during an older version of the drawer and remains for testing\n",
    "            #if currentCycle == 0:   \n",
    "                #print(len(ploty))\n",
    "                #print(len(left_fitx))\n",
    "                #for i in range(0,len(left_fitx)):\n",
    "                    #if (int(left_fitx[i]) < 1280) and (int(right_fitx[i]) < 1280):\n",
    "                        #out_img[ploty[i],int(left_fitx[i])] = [255,255,0]\n",
    "                        #out_img[ploty[i],int(right_fitx[i])] = [255,255,0]\n",
    "                \n",
    "                #cv2.imwrite('./WriteUp_pics/binary_lanes.jpg',out_img)\n",
    "            \n",
    "            \n",
    "            \n",
    "            \n",
    "       \n",
    "            \n",
    "            \n",
    "            \n",
    "            \n",
    "        #now, let's calculate curvature\n",
    "        y_eval = np.max(ploty)\n",
    "\n",
    "        left_deriv_1 = 2*left_fit[0]*y_eval + left_fit[1]\n",
    "        left_deriv_2 = 2*left_fit[0]\n",
    "\n",
    "        right_deriv_1 = 2*right_fit[0]*y_eval+ right_fit[1]\n",
    "        right_deriv_2 = 2*right_fit[0]\n",
    "\n",
    "        left_curve_radius = ((1+ left_deriv_1**2)**1.5)/np.absolute(left_deriv_2)\n",
    "        right_curve_radius = ((1+ right_deriv_1**2)**1.5)/np.absolute(right_deriv_2)\n",
    "        \n",
    "        #our lanes are 3.7 m wide and 30 m long (i assume from car to horizon)\n",
    "        #now, calculating real radius of curvature; this takes into account the length and width of roads in expected pictures\n",
    "        ym_per_pixel = 30/720\n",
    "        xm_per_pixel = 3.7/900\n",
    "\n",
    "        # Fit a second order polynomial to each\n",
    "        if (len(lefty) == 0) or (len(leftx) == 0) or (len(righty) == 0) or (len(rightx) == 0):\n",
    "            print(\"blargh\")\n",
    "        else:\n",
    "            left_fit_curv = np.polyfit(lefty*ym_per_pixel, leftx*xm_per_pixel, 2)\n",
    "            right_fit_curv = np.polyfit(righty*ym_per_pixel, rightx*xm_per_pixel, 2)\n",
    "\n",
    "        y_eval = np.max(ploty)\n",
    "\n",
    "        left_deriv_1 = 2*left_fit_curv[0]*y_eval + left_fit_curv[1]\n",
    "        left_deriv_2 = 2*left_fit_curv[0]\n",
    "\n",
    "        right_deriv_1 = 2*right_fit_curv[0]*y_eval+ right_fit_curv[1]\n",
    "        right_deriv_2 = 2*right_fit_curv[0]\n",
    "\n",
    "        left_curve_radius = ((1+ left_deriv_1**2)**1.5)/np.absolute(left_deriv_2)\n",
    "        right_curve_radius = ((1+ right_deriv_1**2)**1.5)/np.absolute(right_deriv_2)\n",
    "        \n",
    "        \n",
    "        \n",
    "        \n",
    "        #calculating current displacement\n",
    "        real_center = 640\n",
    "        right_bottom = right_fitx[-1]\n",
    "        left_bottom = left_fitx[-1]\n",
    "        #print(\"the left and right bottom are\" + str(left_bottom) + \" \" + str(right_bottom))\n",
    "        current_center = (right_bottom+ left_bottom)/2\n",
    "        \n",
    "        #the next block allows new curvatures to only be shared once every 10 frames; allows easier viewing while the video plays\n",
    "        if curve_counter == 0:\n",
    "            final_curvature = np.mean([left_curve_radius,right_curve_radius])\n",
    "            current_displacement = round((real_center-current_center)*3.2/900,3)\n",
    "        if curve_counter > 10:\n",
    "            curve_counter = 0\n",
    "        else:\n",
    "            curve_counter = curve_counter + 1\n",
    "            \n",
    "        \n",
    "        \n",
    "        warp_zero = np.zeros_like(warped).astype(np.uint8)\n",
    "        color_warp = np.dstack((warp_zero, warp_zero, warp_zero))\n",
    "\n",
    "        Minv = cv2.getPerspectiveTransform(dst,src)\n",
    "\n",
    "\n",
    "        # Recast the x and y points into usable format for cv2.fillPoly()\n",
    "        pts_left = np.array([np.transpose(np.vstack([left_fitx, ploty]))])\n",
    "        pts_right = np.array([np.flipud(np.transpose(np.vstack([right_fitx, ploty])))])\n",
    "        pts = np.hstack((pts_left, pts_right))\n",
    "\n",
    "        # Draw the lane onto the warped blank image\n",
    "        cv2.fillPoly(color_warp, np.int_([pts]), (0,255, 0))\n",
    "    \n",
    "        newwarp = cv2.warpPerspective(color_warp, Minv, (examplePic.shape[1], examplePic.shape[0]))\n",
    "\n",
    "        \n",
    "        \n",
    "        \n",
    "        result = cv2.addWeighted(examplePic, 1, newwarp, .5,0)\n",
    "        \n",
    "        result_text = \"The radius of curvature is \" + str(round(final_curvature)) + \"(m)\"\n",
    "        if current_displacement < 0:\n",
    "            displacement_text = \"The displacement is \" + str(abs(current_displacement)) + \"(m)\" + \" to the left of the center of the lane\"\n",
    "                                                             \n",
    "        else:\n",
    "            displacement_text = \"The displacement is \" + str(abs(current_displacement)) + \"(m)\" + \" to the right of the center of the lane\"\n",
    "\n",
    "        result_font = 3 #cv2.FONT_HERSEY_COMPLEX\n",
    "\n",
    "        cv2.putText(result,result_text, (50,150), result_font, .8, (0,0,0))\n",
    "        cv2.putText(result,displacement_text, (50,100), result_font, .8, (0,0,0))\n",
    "        \n",
    "\n",
    "        if currentCycle == 0:\n",
    "            cv2.imwrite('./WriteUp_pics/finished_frame.jpg',result[:,:,::-1])\n",
    "            \n",
    "        currentCycle = 1\n",
    "\n",
    "        \n",
    "        #print(\"checkpoint Delta\")\n",
    "        \n",
    "        return result\n",
    "\n"
   ]
  },
  {
   "cell_type": "code",
   "execution_count": 63,
   "metadata": {
    "collapsed": false
   },
   "outputs": [
    {
     "name": "stdout",
     "output_type": "stream",
     "text": [
      "[MoviePy] >>>> Building video ./project_video_output.mp4\n",
      "[MoviePy] Writing video ./project_video_output.mp4\n"
     ]
    },
    {
     "name": "stderr",
     "output_type": "stream",
     "text": [
      " 43%|████▎     | 544/1261 [01:38<02:01,  5.88it/s]"
     ]
    },
    {
     "name": "stdout",
     "output_type": "stream",
     "text": [
      "jumpy left\n",
      "jumpy left\n",
      "jumpy right\n"
     ]
    },
    {
     "name": "stderr",
     "output_type": "stream",
     "text": [
      " 43%|████▎     | 546/1261 [01:38<02:02,  5.82it/s]"
     ]
    },
    {
     "name": "stdout",
     "output_type": "stream",
     "text": [
      "jumpy left\n",
      "jumpy right\n"
     ]
    },
    {
     "name": "stderr",
     "output_type": "stream",
     "text": [
      " 43%|████▎     | 548/1261 [01:38<01:58,  6.00it/s]"
     ]
    },
    {
     "name": "stdout",
     "output_type": "stream",
     "text": [
      "jumpy left\n",
      "jumpy left\n",
      "jumpy right\n"
     ]
    },
    {
     "name": "stderr",
     "output_type": "stream",
     "text": [
      " 44%|████▎     | 550/1261 [01:39<02:00,  5.88it/s]"
     ]
    },
    {
     "name": "stdout",
     "output_type": "stream",
     "text": [
      "jumpy left\n",
      "jumpy right\n"
     ]
    },
    {
     "name": "stderr",
     "output_type": "stream",
     "text": [
      " 44%|████▍     | 553/1261 [01:39<02:00,  5.87it/s]"
     ]
    },
    {
     "name": "stdout",
     "output_type": "stream",
     "text": [
      "jumpy left\n",
      "jumpy right\n",
      "jumpy left\n"
     ]
    },
    {
     "name": "stderr",
     "output_type": "stream",
     "text": [
      " 44%|████▍     | 555/1261 [01:40<02:01,  5.83it/s]"
     ]
    },
    {
     "name": "stdout",
     "output_type": "stream",
     "text": [
      "jumpy left\n",
      "jumpy right\n",
      "jumpy left\n",
      "jumpy right\n"
     ]
    },
    {
     "name": "stderr",
     "output_type": "stream",
     "text": [
      " 44%|████▍     | 557/1261 [01:40<01:54,  6.12it/s]"
     ]
    },
    {
     "name": "stdout",
     "output_type": "stream",
     "text": [
      "jumpy left\n",
      "jumpy right\n",
      "jumpy left\n",
      "jumpy right\n"
     ]
    },
    {
     "name": "stderr",
     "output_type": "stream",
     "text": [
      " 44%|████▍     | 560/1261 [01:40<01:56,  6.04it/s]"
     ]
    },
    {
     "name": "stdout",
     "output_type": "stream",
     "text": [
      "jumpy right\n",
      "jumpy left\n",
      "jumpy right\n"
     ]
    },
    {
     "name": "stderr",
     "output_type": "stream",
     "text": [
      " 45%|████▍     | 562/1261 [01:41<01:56,  6.02it/s]"
     ]
    },
    {
     "name": "stdout",
     "output_type": "stream",
     "text": [
      "jumpy left\n",
      "jumpy right\n",
      "jumpy left\n"
     ]
    },
    {
     "name": "stderr",
     "output_type": "stream",
     "text": [
      " 45%|████▍     | 564/1261 [01:41<01:57,  5.91it/s]"
     ]
    },
    {
     "name": "stdout",
     "output_type": "stream",
     "text": [
      "jumpy left\n",
      "jumpy left\n"
     ]
    },
    {
     "name": "stderr",
     "output_type": "stream",
     "text": [
      " 45%|████▍     | 566/1261 [01:41<02:00,  5.79it/s]"
     ]
    },
    {
     "name": "stdout",
     "output_type": "stream",
     "text": [
      "jumpy left\n",
      "jumpy left\n"
     ]
    },
    {
     "name": "stderr",
     "output_type": "stream",
     "text": [
      "\r",
      " 45%|████▍     | 567/1261 [01:42<01:59,  5.82it/s]"
     ]
    },
    {
     "name": "stdout",
     "output_type": "stream",
     "text": [
      "jumpy left\n"
     ]
    },
    {
     "name": "stderr",
     "output_type": "stream",
     "text": [
      " 46%|████▌     | 576/1261 [01:43<01:56,  5.86it/s]"
     ]
    },
    {
     "name": "stdout",
     "output_type": "stream",
     "text": [
      "jumpy left\n"
     ]
    },
    {
     "name": "stderr",
     "output_type": "stream",
     "text": [
      " 46%|████▌     | 578/1261 [01:43<01:58,  5.75it/s]"
     ]
    },
    {
     "name": "stdout",
     "output_type": "stream",
     "text": [
      "jumpy left\n",
      "jumpy left\n",
      "jumpy right\n"
     ]
    },
    {
     "name": "stderr",
     "output_type": "stream",
     "text": [
      " 46%|████▌     | 580/1261 [01:44<01:56,  5.87it/s]"
     ]
    },
    {
     "name": "stdout",
     "output_type": "stream",
     "text": [
      "jumpy left\n",
      "jumpy right\n",
      "jumpy left\n",
      "jumpy right\n"
     ]
    },
    {
     "name": "stderr",
     "output_type": "stream",
     "text": [
      " 46%|████▌     | 582/1261 [01:44<01:57,  5.80it/s]"
     ]
    },
    {
     "name": "stdout",
     "output_type": "stream",
     "text": [
      "jumpy right\n",
      "jumpy right\n"
     ]
    },
    {
     "name": "stderr",
     "output_type": "stream",
     "text": [
      " 46%|████▋     | 584/1261 [01:44<01:56,  5.80it/s]"
     ]
    },
    {
     "name": "stdout",
     "output_type": "stream",
     "text": [
      "jumpy right\n",
      "jumpy right\n"
     ]
    },
    {
     "name": "stderr",
     "output_type": "stream",
     "text": [
      " 47%|████▋     | 587/1261 [01:45<01:56,  5.78it/s]"
     ]
    },
    {
     "name": "stdout",
     "output_type": "stream",
     "text": [
      "jumpy left\n",
      "jumpy left\n"
     ]
    },
    {
     "name": "stderr",
     "output_type": "stream",
     "text": [
      " 47%|████▋     | 590/1261 [01:45<01:54,  5.87it/s]"
     ]
    },
    {
     "name": "stdout",
     "output_type": "stream",
     "text": [
      "jumpy left\n",
      "jumpy left\n"
     ]
    },
    {
     "name": "stderr",
     "output_type": "stream",
     "text": [
      "\r",
      " 47%|████▋     | 591/1261 [01:46<01:51,  6.00it/s]"
     ]
    },
    {
     "name": "stdout",
     "output_type": "stream",
     "text": [
      "jumpy left\n",
      "jumpy left\n"
     ]
    },
    {
     "name": "stderr",
     "output_type": "stream",
     "text": [
      " 47%|████▋     | 594/1261 [01:46<01:59,  5.58it/s]"
     ]
    },
    {
     "name": "stdout",
     "output_type": "stream",
     "text": [
      "jumpy left\n",
      "jumpy left\n"
     ]
    },
    {
     "name": "stderr",
     "output_type": "stream",
     "text": [
      "\r",
      " 47%|████▋     | 595/1261 [01:46<01:59,  5.59it/s]"
     ]
    },
    {
     "name": "stdout",
     "output_type": "stream",
     "text": [
      "jumpy left\n"
     ]
    },
    {
     "name": "stderr",
     "output_type": "stream",
     "text": [
      " 78%|███████▊  | 982/1261 [02:57<00:46,  6.06it/s]"
     ]
    },
    {
     "name": "stdout",
     "output_type": "stream",
     "text": [
      "jumpy left\n"
     ]
    },
    {
     "name": "stderr",
     "output_type": "stream",
     "text": [
      " 78%|███████▊  | 986/1261 [02:57<00:43,  6.26it/s]"
     ]
    },
    {
     "name": "stdout",
     "output_type": "stream",
     "text": [
      "jumpy right\n"
     ]
    },
    {
     "name": "stderr",
     "output_type": "stream",
     "text": [
      " 79%|███████▊  | 991/1261 [02:58<00:45,  5.99it/s]"
     ]
    },
    {
     "name": "stdout",
     "output_type": "stream",
     "text": [
      "jumpy left\n",
      "jumpy left\n"
     ]
    },
    {
     "name": "stderr",
     "output_type": "stream",
     "text": [
      " 79%|███████▊  | 993/1261 [02:58<00:44,  6.01it/s]"
     ]
    },
    {
     "name": "stdout",
     "output_type": "stream",
     "text": [
      "jumpy left\n"
     ]
    },
    {
     "name": "stderr",
     "output_type": "stream",
     "text": [
      " 79%|███████▉  | 1001/1261 [03:00<00:42,  6.18it/s]"
     ]
    },
    {
     "name": "stdout",
     "output_type": "stream",
     "text": [
      "jumpy right\n",
      "jumpy right\n"
     ]
    },
    {
     "name": "stderr",
     "output_type": "stream",
     "text": [
      " 80%|███████▉  | 1003/1261 [03:00<00:42,  6.13it/s]"
     ]
    },
    {
     "name": "stdout",
     "output_type": "stream",
     "text": [
      "jumpy left\n",
      "jumpy right\n",
      "jumpy left\n",
      "jumpy right\n"
     ]
    },
    {
     "name": "stderr",
     "output_type": "stream",
     "text": [
      "\r",
      " 80%|███████▉  | 1004/1261 [03:00<00:43,  5.98it/s]"
     ]
    },
    {
     "name": "stdout",
     "output_type": "stream",
     "text": [
      "jumpy left\n",
      "jumpy right\n",
      "jumpy left\n"
     ]
    },
    {
     "name": "stderr",
     "output_type": "stream",
     "text": [
      " 80%|███████▉  | 1007/1261 [03:01<00:43,  5.86it/s]"
     ]
    },
    {
     "name": "stdout",
     "output_type": "stream",
     "text": [
      "jumpy right\n",
      "jumpy right\n"
     ]
    },
    {
     "name": "stderr",
     "output_type": "stream",
     "text": [
      "\r",
      " 80%|███████▉  | 1008/1261 [03:01<00:42,  5.91it/s]"
     ]
    },
    {
     "name": "stdout",
     "output_type": "stream",
     "text": [
      "jumpy right\n",
      "jumpy right\n"
     ]
    },
    {
     "name": "stderr",
     "output_type": "stream",
     "text": [
      " 80%|████████  | 1010/1261 [03:01<00:44,  5.69it/s]"
     ]
    },
    {
     "name": "stdout",
     "output_type": "stream",
     "text": [
      "jumpy right\n",
      "jumpy left\n",
      "jumpy right\n"
     ]
    },
    {
     "name": "stderr",
     "output_type": "stream",
     "text": [
      " 80%|████████  | 1012/1261 [03:02<00:43,  5.72it/s]"
     ]
    },
    {
     "name": "stdout",
     "output_type": "stream",
     "text": [
      "jumpy right\n",
      "jumpy right\n"
     ]
    },
    {
     "name": "stderr",
     "output_type": "stream",
     "text": [
      " 81%|████████  | 1022/1261 [03:03<00:41,  5.83it/s]"
     ]
    },
    {
     "name": "stdout",
     "output_type": "stream",
     "text": [
      "jumpy right\n"
     ]
    },
    {
     "name": "stderr",
     "output_type": "stream",
     "text": [
      " 81%|████████▏ | 1026/1261 [03:04<00:40,  5.86it/s]"
     ]
    },
    {
     "name": "stdout",
     "output_type": "stream",
     "text": [
      "jumpy right\n"
     ]
    },
    {
     "name": "stderr",
     "output_type": "stream",
     "text": [
      " 82%|████████▏ | 1028/1261 [03:04<00:40,  5.81it/s]"
     ]
    },
    {
     "name": "stdout",
     "output_type": "stream",
     "text": [
      "jumpy right\n"
     ]
    },
    {
     "name": "stderr",
     "output_type": "stream",
     "text": [
      " 82%|████████▏ | 1031/1261 [03:05<00:40,  5.75it/s]"
     ]
    },
    {
     "name": "stdout",
     "output_type": "stream",
     "text": [
      "jumpy right\n"
     ]
    },
    {
     "name": "stderr",
     "output_type": "stream",
     "text": [
      "100%|█████████▉| 1260/1261 [03:46<00:00,  5.69it/s]\n"
     ]
    },
    {
     "name": "stdout",
     "output_type": "stream",
     "text": [
      "[MoviePy] Done.\n",
      "[MoviePy] >>>> Video ready: ./project_video_output.mp4 \n",
      "\n",
      "CPU times: user 5min 56s, sys: 16.7 s, total: 6min 13s\n",
      "Wall time: 3min 47s\n",
      "done\n"
     ]
    }
   ],
   "source": [
    "import matplotlib.image as mpimg\n",
    "import matplotlib.pyplot as plt\n",
    "import cv2\n",
    "import numpy as np\n",
    "import glob\n",
    "from moviepy.editor import VideoFileClip\n",
    "from IPython.display import HTML\n",
    "%matplotlib inline\n",
    "\n",
    "global currentCycle\n",
    "\n",
    "#selects designated video and runs getLines function on every frame\n",
    "outputVid = './project_video_output.mp4'\n",
    "exampleVid = VideoFileClip('./project_video.mp4')\n",
    "#exampleVid2 = exampleVid.subclip(35,36)\n",
    "outputClip = exampleVid.fl_image(getLines)\n",
    "\n",
    "%time outputClip.write_videofile(outputVid,audio=False)\n",
    "\n",
    "print(\"done\")\n",
    "currentCycle = 0"
   ]
  },
  {
   "cell_type": "code",
   "execution_count": null,
   "metadata": {
    "collapsed": true
   },
   "outputs": [],
   "source": []
  },
  {
   "cell_type": "code",
   "execution_count": null,
   "metadata": {
    "collapsed": true
   },
   "outputs": [],
   "source": []
  }
 ],
 "metadata": {
  "kernelspec": {
   "display_name": "Python 3",
   "language": "python",
   "name": "python3"
  },
  "language_info": {
   "codemirror_mode": {
    "name": "ipython",
    "version": 3
   },
   "file_extension": ".py",
   "mimetype": "text/x-python",
   "name": "python",
   "nbconvert_exporter": "python",
   "pygments_lexer": "ipython3",
   "version": "3.5.2"
  },
  "widgets": {
   "state": {},
   "version": "1.1.2"
  }
 },
 "nbformat": 4,
 "nbformat_minor": 2
}
